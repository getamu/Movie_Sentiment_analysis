{
  "cells": [
    {
      "metadata": {
        "_uuid": "de1c30a2920dec25e75d7020781615f62f5e0d7d"
      },
      "cell_type": "markdown",
      "source": "## Importing Library"
    },
    {
      "metadata": {
        "_cell_guid": "b1076dfc-b9ad-4769-8c92-a6c4dae69d19",
        "_uuid": "8f2839f25d086af736a60e9eeb907d3b93b6e0e5",
        "trusted": true
      },
      "cell_type": "code",
      "source": "import numpy as np \nimport pandas as pd \nimport nltk\nimport os\nimport gc\nfrom keras.preprocessing import sequence,text\nfrom keras.preprocessing.text import Tokenizer\nfrom keras.models import Sequential\nfrom keras.layers import Dense,Dropout,Embedding,LSTM,Conv1D,GlobalMaxPooling1D,Flatten,MaxPooling1D,GRU,SpatialDropout1D,Bidirectional\nfrom keras.callbacks import EarlyStopping\nfrom keras.utils import to_categorical\nfrom keras.losses import categorical_crossentropy\nfrom keras.optimizers import Adam\nfrom sklearn.model_selection import train_test_split\nfrom sklearn.metrics import accuracy_score,confusion_matrix,classification_report,f1_score\nimport matplotlib.pyplot as plt\nimport warnings\nwarnings.filterwarnings(\"ignore\")\n#pd.set_option('display.max_colwidth',100)\npd.set_option('display.max_colwidth', -1)",
      "execution_count": 1,
      "outputs": [
        {
          "output_type": "stream",
          "text": "/opt/conda/lib/python3.6/site-packages/h5py/__init__.py:36: FutureWarning: Conversion of the second argument of issubdtype from `float` to `np.floating` is deprecated. In future, it will be treated as `np.float64 == np.dtype(float).type`.\n  from ._conv import register_converters as _register_converters\nUsing TensorFlow backend.\n",
          "name": "stderr"
        }
      ]
    },
    {
      "metadata": {
        "_uuid": "376108f6e1a22afeba8739d2e12d0aa51fde8dea",
        "trusted": true
      },
      "cell_type": "code",
      "source": "gc.collect()",
      "execution_count": 2,
      "outputs": [
        {
          "output_type": "execute_result",
          "execution_count": 2,
          "data": {
            "text/plain": "0"
          },
          "metadata": {}
        }
      ]
    },
    {
      "metadata": {
        "_cell_guid": "79c7e3d0-c299-4dcb-8224-4455121ee9b0",
        "_uuid": "d629ff2d2480ee46fbb7e2d37f6b5fab8052498a",
        "collapsed": true
      },
      "cell_type": "markdown",
      "source": "### Loading dataset and basic visualization"
    },
    {
      "metadata": {
        "_uuid": "cfd09ccff2dbc595ead54e3fd638cfdc3f3089e5",
        "trusted": true
      },
      "cell_type": "code",
      "source": "train=pd.read_csv('../input/movie-review-sentiment-analysis-kernels-only/train.tsv',sep='\\t')\nprint(train.shape)\ntrain.head()",
      "execution_count": 3,
      "outputs": [
        {
          "output_type": "stream",
          "text": "(156060, 4)\n",
          "name": "stdout"
        },
        {
          "output_type": "execute_result",
          "execution_count": 3,
          "data": {
            "text/plain": "   PhraseId  SentenceId  \\\n0  1         1            \n1  2         1            \n2  3         1            \n3  4         1            \n4  5         1            \n\n                                                                                                                                                                                         Phrase  \\\n0  A series of escapades demonstrating the adage that what is good for the goose is also good for the gander , some of which occasionally amuses but none of which amounts to much of a story .   \n1  A series of escapades demonstrating the adage that what is good for the goose                                                                                                                  \n2  A series                                                                                                                                                                                       \n3  A                                                                                                                                                                                              \n4  series                                                                                                                                                                                         \n\n   Sentiment  \n0  1          \n1  2          \n2  2          \n3  2          \n4  2          ",
            "text/html": "<div>\n<style scoped>\n    .dataframe tbody tr th:only-of-type {\n        vertical-align: middle;\n    }\n\n    .dataframe tbody tr th {\n        vertical-align: top;\n    }\n\n    .dataframe thead th {\n        text-align: right;\n    }\n</style>\n<table border=\"1\" class=\"dataframe\">\n  <thead>\n    <tr style=\"text-align: right;\">\n      <th></th>\n      <th>PhraseId</th>\n      <th>SentenceId</th>\n      <th>Phrase</th>\n      <th>Sentiment</th>\n    </tr>\n  </thead>\n  <tbody>\n    <tr>\n      <th>0</th>\n      <td>1</td>\n      <td>1</td>\n      <td>A series of escapades demonstrating the adage that what is good for the goose is also good for the gander , some of which occasionally amuses but none of which amounts to much of a story .</td>\n      <td>1</td>\n    </tr>\n    <tr>\n      <th>1</th>\n      <td>2</td>\n      <td>1</td>\n      <td>A series of escapades demonstrating the adage that what is good for the goose</td>\n      <td>2</td>\n    </tr>\n    <tr>\n      <th>2</th>\n      <td>3</td>\n      <td>1</td>\n      <td>A series</td>\n      <td>2</td>\n    </tr>\n    <tr>\n      <th>3</th>\n      <td>4</td>\n      <td>1</td>\n      <td>A</td>\n      <td>2</td>\n    </tr>\n    <tr>\n      <th>4</th>\n      <td>5</td>\n      <td>1</td>\n      <td>series</td>\n      <td>2</td>\n    </tr>\n  </tbody>\n</table>\n</div>"
          },
          "metadata": {}
        }
      ]
    },
    {
      "metadata": {
        "_uuid": "1b7f2e540ea49f1d94ec124b818f2a63c3c66a96",
        "trusted": true
      },
      "cell_type": "code",
      "source": "test=pd.read_csv('../input/movie-review-sentiment-analysis-kernels-only/test.tsv',sep='\\t')\nprint(test.shape)\ntest.head()",
      "execution_count": 4,
      "outputs": [
        {
          "output_type": "stream",
          "text": "(66292, 3)\n",
          "name": "stdout"
        },
        {
          "output_type": "execute_result",
          "execution_count": 4,
          "data": {
            "text/plain": "   PhraseId  SentenceId  \\\n0  156061    8545         \n1  156062    8545         \n2  156063    8545         \n3  156064    8545         \n4  156065    8545         \n\n                                                   Phrase  \n0  An intermittently pleasing but mostly routine effort .  \n1  An intermittently pleasing but mostly routine effort    \n2  An                                                      \n3  intermittently pleasing but mostly routine effort       \n4  intermittently pleasing but mostly routine              ",
            "text/html": "<div>\n<style scoped>\n    .dataframe tbody tr th:only-of-type {\n        vertical-align: middle;\n    }\n\n    .dataframe tbody tr th {\n        vertical-align: top;\n    }\n\n    .dataframe thead th {\n        text-align: right;\n    }\n</style>\n<table border=\"1\" class=\"dataframe\">\n  <thead>\n    <tr style=\"text-align: right;\">\n      <th></th>\n      <th>PhraseId</th>\n      <th>SentenceId</th>\n      <th>Phrase</th>\n    </tr>\n  </thead>\n  <tbody>\n    <tr>\n      <th>0</th>\n      <td>156061</td>\n      <td>8545</td>\n      <td>An intermittently pleasing but mostly routine effort .</td>\n    </tr>\n    <tr>\n      <th>1</th>\n      <td>156062</td>\n      <td>8545</td>\n      <td>An intermittently pleasing but mostly routine effort</td>\n    </tr>\n    <tr>\n      <th>2</th>\n      <td>156063</td>\n      <td>8545</td>\n      <td>An</td>\n    </tr>\n    <tr>\n      <th>3</th>\n      <td>156064</td>\n      <td>8545</td>\n      <td>intermittently pleasing but mostly routine effort</td>\n    </tr>\n    <tr>\n      <th>4</th>\n      <td>156065</td>\n      <td>8545</td>\n      <td>intermittently pleasing but mostly routine</td>\n    </tr>\n  </tbody>\n</table>\n</div>"
          },
          "metadata": {}
        }
      ]
    },
    {
      "metadata": {
        "_uuid": "f4509ef7a7adcc7942a6f1acff34c54ce3802d5d",
        "trusted": true
      },
      "cell_type": "code",
      "source": "sub=pd.read_csv('../input/movie-review-sentiment-analysis-kernels-only/sampleSubmission.csv')\nsub.head()",
      "execution_count": 5,
      "outputs": [
        {
          "output_type": "execute_result",
          "execution_count": 5,
          "data": {
            "text/plain": "   PhraseId  Sentiment\n0  156061    2        \n1  156062    2        \n2  156063    2        \n3  156064    2        \n4  156065    2        ",
            "text/html": "<div>\n<style scoped>\n    .dataframe tbody tr th:only-of-type {\n        vertical-align: middle;\n    }\n\n    .dataframe tbody tr th {\n        vertical-align: top;\n    }\n\n    .dataframe thead th {\n        text-align: right;\n    }\n</style>\n<table border=\"1\" class=\"dataframe\">\n  <thead>\n    <tr style=\"text-align: right;\">\n      <th></th>\n      <th>PhraseId</th>\n      <th>Sentiment</th>\n    </tr>\n  </thead>\n  <tbody>\n    <tr>\n      <th>0</th>\n      <td>156061</td>\n      <td>2</td>\n    </tr>\n    <tr>\n      <th>1</th>\n      <td>156062</td>\n      <td>2</td>\n    </tr>\n    <tr>\n      <th>2</th>\n      <td>156063</td>\n      <td>2</td>\n    </tr>\n    <tr>\n      <th>3</th>\n      <td>156064</td>\n      <td>2</td>\n    </tr>\n    <tr>\n      <th>4</th>\n      <td>156065</td>\n      <td>2</td>\n    </tr>\n  </tbody>\n</table>\n</div>"
          },
          "metadata": {}
        }
      ]
    },
    {
      "metadata": {
        "_uuid": "bbe766f446d3bb593acbdf5ef976097c929c7901"
      },
      "cell_type": "markdown",
      "source": "**Adding Sentiment column to test datset and joing train and test for preprocessing**"
    },
    {
      "metadata": {
        "_uuid": "293f41b034b63f6526f22fd616877220e19af8e7",
        "trusted": true
      },
      "cell_type": "code",
      "source": "test['Sentiment']=-999\ntest.head()",
      "execution_count": 6,
      "outputs": [
        {
          "output_type": "execute_result",
          "execution_count": 6,
          "data": {
            "text/plain": "   PhraseId  SentenceId  \\\n0  156061    8545         \n1  156062    8545         \n2  156063    8545         \n3  156064    8545         \n4  156065    8545         \n\n                                                   Phrase  Sentiment  \n0  An intermittently pleasing but mostly routine effort . -999        \n1  An intermittently pleasing but mostly routine effort   -999        \n2  An                                                     -999        \n3  intermittently pleasing but mostly routine effort      -999        \n4  intermittently pleasing but mostly routine             -999        ",
            "text/html": "<div>\n<style scoped>\n    .dataframe tbody tr th:only-of-type {\n        vertical-align: middle;\n    }\n\n    .dataframe tbody tr th {\n        vertical-align: top;\n    }\n\n    .dataframe thead th {\n        text-align: right;\n    }\n</style>\n<table border=\"1\" class=\"dataframe\">\n  <thead>\n    <tr style=\"text-align: right;\">\n      <th></th>\n      <th>PhraseId</th>\n      <th>SentenceId</th>\n      <th>Phrase</th>\n      <th>Sentiment</th>\n    </tr>\n  </thead>\n  <tbody>\n    <tr>\n      <th>0</th>\n      <td>156061</td>\n      <td>8545</td>\n      <td>An intermittently pleasing but mostly routine effort .</td>\n      <td>-999</td>\n    </tr>\n    <tr>\n      <th>1</th>\n      <td>156062</td>\n      <td>8545</td>\n      <td>An intermittently pleasing but mostly routine effort</td>\n      <td>-999</td>\n    </tr>\n    <tr>\n      <th>2</th>\n      <td>156063</td>\n      <td>8545</td>\n      <td>An</td>\n      <td>-999</td>\n    </tr>\n    <tr>\n      <th>3</th>\n      <td>156064</td>\n      <td>8545</td>\n      <td>intermittently pleasing but mostly routine effort</td>\n      <td>-999</td>\n    </tr>\n    <tr>\n      <th>4</th>\n      <td>156065</td>\n      <td>8545</td>\n      <td>intermittently pleasing but mostly routine</td>\n      <td>-999</td>\n    </tr>\n  </tbody>\n</table>\n</div>"
          },
          "metadata": {}
        }
      ]
    },
    {
      "metadata": {
        "_uuid": "277931f786264b67041d060cdf5aec9ace10fd5d",
        "trusted": true
      },
      "cell_type": "code",
      "source": "df=pd.concat([train,test],ignore_index=True)\nprint(df.shape)\ndf.tail()",
      "execution_count": 7,
      "outputs": [
        {
          "output_type": "stream",
          "text": "(222352, 4)\n",
          "name": "stdout"
        },
        {
          "output_type": "execute_result",
          "execution_count": 7,
          "data": {
            "text/plain": "        PhraseId  SentenceId                                  Phrase  \\\n222347  222348    11855       A long-winded , predictable scenario .   \n222348  222349    11855       A long-winded , predictable scenario     \n222349  222350    11855       A long-winded ,                          \n222350  222351    11855       A long-winded                            \n222351  222352    11855       predictable scenario                     \n\n        Sentiment  \n222347 -999        \n222348 -999        \n222349 -999        \n222350 -999        \n222351 -999        ",
            "text/html": "<div>\n<style scoped>\n    .dataframe tbody tr th:only-of-type {\n        vertical-align: middle;\n    }\n\n    .dataframe tbody tr th {\n        vertical-align: top;\n    }\n\n    .dataframe thead th {\n        text-align: right;\n    }\n</style>\n<table border=\"1\" class=\"dataframe\">\n  <thead>\n    <tr style=\"text-align: right;\">\n      <th></th>\n      <th>PhraseId</th>\n      <th>SentenceId</th>\n      <th>Phrase</th>\n      <th>Sentiment</th>\n    </tr>\n  </thead>\n  <tbody>\n    <tr>\n      <th>222347</th>\n      <td>222348</td>\n      <td>11855</td>\n      <td>A long-winded , predictable scenario .</td>\n      <td>-999</td>\n    </tr>\n    <tr>\n      <th>222348</th>\n      <td>222349</td>\n      <td>11855</td>\n      <td>A long-winded , predictable scenario</td>\n      <td>-999</td>\n    </tr>\n    <tr>\n      <th>222349</th>\n      <td>222350</td>\n      <td>11855</td>\n      <td>A long-winded ,</td>\n      <td>-999</td>\n    </tr>\n    <tr>\n      <th>222350</th>\n      <td>222351</td>\n      <td>11855</td>\n      <td>A long-winded</td>\n      <td>-999</td>\n    </tr>\n    <tr>\n      <th>222351</th>\n      <td>222352</td>\n      <td>11855</td>\n      <td>predictable scenario</td>\n      <td>-999</td>\n    </tr>\n  </tbody>\n</table>\n</div>"
          },
          "metadata": {}
        }
      ]
    },
    {
      "metadata": {
        "_uuid": "5c6e9d3571d89ffeba4bbf3a09a027b542499063",
        "trusted": true
      },
      "cell_type": "code",
      "source": "del train,test\ngc.collect()",
      "execution_count": 8,
      "outputs": [
        {
          "output_type": "execute_result",
          "execution_count": 8,
          "data": {
            "text/plain": "26"
          },
          "metadata": {}
        }
      ]
    },
    {
      "metadata": {
        "_uuid": "7ba69becca5dac25b40fc9c1a421b3d2b93ef7c5"
      },
      "cell_type": "markdown",
      "source": "** cleaning review**"
    },
    {
      "metadata": {
        "_uuid": "44022cdd2e622139943b9e65350dcb89d4d6653e",
        "trusted": true,
        "collapsed": true
      },
      "cell_type": "code",
      "source": "from nltk.tokenize import word_tokenize\nfrom nltk import FreqDist\nfrom nltk.stem import SnowballStemmer,WordNetLemmatizer\nstemmer=SnowballStemmer('english')\nlemma=WordNetLemmatizer()\nfrom string import punctuation\nimport re\n",
      "execution_count": 9,
      "outputs": []
    },
    {
      "metadata": {
        "_uuid": "4644cb4452dca89c9870447a9ad828a9fa05098d",
        "trusted": true,
        "collapsed": true
      },
      "cell_type": "code",
      "source": "def clean_review(review_col):\n    review_corpus=[]\n    for i in range(0,len(review_col)):\n        review=str(review_col[i])\n        review=re.sub('[^a-zA-Z]',' ',review)\n        #review=[stemmer.stem(w) for w in word_tokenize(str(review).lower())]\n        review=[lemma.lemmatize(w) for w in word_tokenize(str(review).lower())]\n        review=' '.join(review)\n        review_corpus.append(review)\n    return review_corpus",
      "execution_count": 10,
      "outputs": []
    },
    {
      "metadata": {
        "_uuid": "f3aa6294835b8bbba8d324f59b253ab2ec85877a",
        "trusted": true
      },
      "cell_type": "code",
      "source": "df['clean_review']=clean_review(df.Phrase.values)\ndf.head()\n",
      "execution_count": 11,
      "outputs": [
        {
          "output_type": "execute_result",
          "execution_count": 11,
          "data": {
            "text/plain": "   PhraseId  SentenceId  \\\n0  1         1            \n1  2         1            \n2  3         1            \n3  4         1            \n4  5         1            \n\n                                                                                                                                                                                         Phrase  \\\n0  A series of escapades demonstrating the adage that what is good for the goose is also good for the gander , some of which occasionally amuses but none of which amounts to much of a story .   \n1  A series of escapades demonstrating the adage that what is good for the goose                                                                                                                  \n2  A series                                                                                                                                                                                       \n3  A                                                                                                                                                                                              \n4  series                                                                                                                                                                                         \n\n   Sentiment  \\\n0  1           \n1  2           \n2  2           \n3  2           \n4  2           \n\n                                                                                                                                                                             clean_review  \n0  a series of escapade demonstrating the adage that what is good for the goose is also good for the gander some of which occasionally amuses but none of which amount to much of a story  \n1  a series of escapade demonstrating the adage that what is good for the goose                                                                                                            \n2  a series                                                                                                                                                                                \n3  a                                                                                                                                                                                       \n4  series                                                                                                                                                                                  ",
            "text/html": "<div>\n<style scoped>\n    .dataframe tbody tr th:only-of-type {\n        vertical-align: middle;\n    }\n\n    .dataframe tbody tr th {\n        vertical-align: top;\n    }\n\n    .dataframe thead th {\n        text-align: right;\n    }\n</style>\n<table border=\"1\" class=\"dataframe\">\n  <thead>\n    <tr style=\"text-align: right;\">\n      <th></th>\n      <th>PhraseId</th>\n      <th>SentenceId</th>\n      <th>Phrase</th>\n      <th>Sentiment</th>\n      <th>clean_review</th>\n    </tr>\n  </thead>\n  <tbody>\n    <tr>\n      <th>0</th>\n      <td>1</td>\n      <td>1</td>\n      <td>A series of escapades demonstrating the adage that what is good for the goose is also good for the gander , some of which occasionally amuses but none of which amounts to much of a story .</td>\n      <td>1</td>\n      <td>a series of escapade demonstrating the adage that what is good for the goose is also good for the gander some of which occasionally amuses but none of which amount to much of a story</td>\n    </tr>\n    <tr>\n      <th>1</th>\n      <td>2</td>\n      <td>1</td>\n      <td>A series of escapades demonstrating the adage that what is good for the goose</td>\n      <td>2</td>\n      <td>a series of escapade demonstrating the adage that what is good for the goose</td>\n    </tr>\n    <tr>\n      <th>2</th>\n      <td>3</td>\n      <td>1</td>\n      <td>A series</td>\n      <td>2</td>\n      <td>a series</td>\n    </tr>\n    <tr>\n      <th>3</th>\n      <td>4</td>\n      <td>1</td>\n      <td>A</td>\n      <td>2</td>\n      <td>a</td>\n    </tr>\n    <tr>\n      <th>4</th>\n      <td>5</td>\n      <td>1</td>\n      <td>series</td>\n      <td>2</td>\n      <td>series</td>\n    </tr>\n  </tbody>\n</table>\n</div>"
          },
          "metadata": {}
        }
      ]
    },
    {
      "metadata": {
        "_uuid": "d4ee11295116391255ecb1ced3ca5054b46a6927"
      },
      "cell_type": "markdown",
      "source": "** seperating train and test dataset**"
    },
    {
      "metadata": {
        "_uuid": "069c27892b11cc1d5a9ac030b67a995532746ea2",
        "trusted": true
      },
      "cell_type": "code",
      "source": "df_train=df[df.Sentiment!=-999]\ndf_train.shape",
      "execution_count": 12,
      "outputs": [
        {
          "output_type": "execute_result",
          "execution_count": 12,
          "data": {
            "text/plain": "(156060, 5)"
          },
          "metadata": {}
        }
      ]
    },
    {
      "metadata": {
        "_uuid": "3f616adc7d6e9a8a12610573762e5ded05fcf96e",
        "trusted": true
      },
      "cell_type": "code",
      "source": "df_test=df[df.Sentiment==-999]\ndf_test.drop('Sentiment',axis=1,inplace=True)\nprint(df_test.shape)\ndf_test.head()",
      "execution_count": 13,
      "outputs": [
        {
          "output_type": "stream",
          "text": "(66292, 4)\n",
          "name": "stdout"
        },
        {
          "output_type": "execute_result",
          "execution_count": 13,
          "data": {
            "text/plain": "        PhraseId  SentenceId  \\\n156060  156061    8545         \n156061  156062    8545         \n156062  156063    8545         \n156063  156064    8545         \n156064  156065    8545         \n\n                                                        Phrase  \\\n156060  An intermittently pleasing but mostly routine effort .   \n156061  An intermittently pleasing but mostly routine effort     \n156062  An                                                       \n156063  intermittently pleasing but mostly routine effort        \n156064  intermittently pleasing but mostly routine               \n\n                                                clean_review  \n156060  an intermittently pleasing but mostly routine effort  \n156061  an intermittently pleasing but mostly routine effort  \n156062  an                                                    \n156063  intermittently pleasing but mostly routine effort     \n156064  intermittently pleasing but mostly routine            ",
            "text/html": "<div>\n<style scoped>\n    .dataframe tbody tr th:only-of-type {\n        vertical-align: middle;\n    }\n\n    .dataframe tbody tr th {\n        vertical-align: top;\n    }\n\n    .dataframe thead th {\n        text-align: right;\n    }\n</style>\n<table border=\"1\" class=\"dataframe\">\n  <thead>\n    <tr style=\"text-align: right;\">\n      <th></th>\n      <th>PhraseId</th>\n      <th>SentenceId</th>\n      <th>Phrase</th>\n      <th>clean_review</th>\n    </tr>\n  </thead>\n  <tbody>\n    <tr>\n      <th>156060</th>\n      <td>156061</td>\n      <td>8545</td>\n      <td>An intermittently pleasing but mostly routine effort .</td>\n      <td>an intermittently pleasing but mostly routine effort</td>\n    </tr>\n    <tr>\n      <th>156061</th>\n      <td>156062</td>\n      <td>8545</td>\n      <td>An intermittently pleasing but mostly routine effort</td>\n      <td>an intermittently pleasing but mostly routine effort</td>\n    </tr>\n    <tr>\n      <th>156062</th>\n      <td>156063</td>\n      <td>8545</td>\n      <td>An</td>\n      <td>an</td>\n    </tr>\n    <tr>\n      <th>156063</th>\n      <td>156064</td>\n      <td>8545</td>\n      <td>intermittently pleasing but mostly routine effort</td>\n      <td>intermittently pleasing but mostly routine effort</td>\n    </tr>\n    <tr>\n      <th>156064</th>\n      <td>156065</td>\n      <td>8545</td>\n      <td>intermittently pleasing but mostly routine</td>\n      <td>intermittently pleasing but mostly routine</td>\n    </tr>\n  </tbody>\n</table>\n</div>"
          },
          "metadata": {}
        }
      ]
    },
    {
      "metadata": {
        "_uuid": "70afb2e0ee4c0a8eecb8722d4c27a1b8f70e7081",
        "trusted": true
      },
      "cell_type": "code",
      "source": "del df\ngc.collect()",
      "execution_count": 14,
      "outputs": [
        {
          "output_type": "execute_result",
          "execution_count": 14,
          "data": {
            "text/plain": "23"
          },
          "metadata": {}
        }
      ]
    },
    {
      "metadata": {
        "_uuid": "a606c41b93e32ff05d0443f9eef937e5c1cc3f6f"
      },
      "cell_type": "markdown",
      "source": "### Splitting Train dataset into train and 20% validation set"
    },
    {
      "metadata": {
        "trusted": true,
        "_uuid": "26b3d8e058c88e7db59d57347a3ea6e161935128"
      },
      "cell_type": "code",
      "source": "train_text=df_train.clean_review.values\ntest_text=df_test.clean_review.values\ntarget=df_train.Sentiment.values\ny=to_categorical(target)\nprint(train_text.shape,target.shape,y.shape)",
      "execution_count": 15,
      "outputs": [
        {
          "output_type": "stream",
          "text": "(156060,) (156060,) (156060, 5)\n",
          "name": "stdout"
        }
      ]
    },
    {
      "metadata": {
        "trusted": true,
        "_uuid": "e782b9cf5191ddcffb98bf97ae14c6ed3e03c1c1"
      },
      "cell_type": "code",
      "source": "X_train_text,X_val_text,y_train,y_val=train_test_split(train_text,y,test_size=0.2,stratify=y,random_state=123)\nprint(X_train_text.shape,y_train.shape)\nprint(X_val_text.shape,y_val.shape)",
      "execution_count": 16,
      "outputs": [
        {
          "output_type": "stream",
          "text": "(124848,) (124848, 5)\n(31212,) (31212, 5)\n",
          "name": "stdout"
        }
      ]
    },
    {
      "metadata": {
        "_uuid": "4a11137fa2b6002edd192dbbe193c8892dbb54a4"
      },
      "cell_type": "markdown",
      "source": "### Finding number of unique words in train set"
    },
    {
      "metadata": {
        "trusted": true,
        "_uuid": "e7e9a89d0e29d070a823e18b26519a4994df2bbe"
      },
      "cell_type": "code",
      "source": "all_words=' '.join(X_train_text)\nall_words=word_tokenize(all_words)\ndist=FreqDist(all_words)\nnum_unique_word=len(dist)\nnum_unique_word",
      "execution_count": 17,
      "outputs": [
        {
          "output_type": "execute_result",
          "execution_count": 17,
          "data": {
            "text/plain": "13732"
          },
          "metadata": {}
        }
      ]
    },
    {
      "metadata": {
        "_uuid": "5cc23adc6d5b724da652b4a96c27d0b8d3a1ed3e"
      },
      "cell_type": "markdown",
      "source": "### Finding max length of a review in train set"
    },
    {
      "metadata": {
        "trusted": true,
        "_uuid": "3efda4aa9a64a8f586249ec67f9c7a365e0d63aa"
      },
      "cell_type": "code",
      "source": "r_len=[]\nfor text in X_train_text:\n    word=word_tokenize(text)\n    l=len(word)\n    r_len.append(l)\n    \nMAX_REVIEW_LEN=np.max(r_len)\nMAX_REVIEW_LEN",
      "execution_count": 18,
      "outputs": [
        {
          "output_type": "execute_result",
          "execution_count": 18,
          "data": {
            "text/plain": "48"
          },
          "metadata": {}
        }
      ]
    },
    {
      "metadata": {
        "_uuid": "a6eb182fd71e0de1eca715dd412bb0f599a39022"
      },
      "cell_type": "markdown",
      "source": "## Building Keras LSTM model"
    },
    {
      "metadata": {
        "trusted": true,
        "collapsed": true,
        "_uuid": "544d2cedfa28005b9ec290944573cbbaf87a05b1"
      },
      "cell_type": "code",
      "source": "max_features = num_unique_word\nmax_words = MAX_REVIEW_LEN\nbatch_size = 128\nepochs = 3\nnum_classes=5",
      "execution_count": 19,
      "outputs": []
    },
    {
      "metadata": {
        "_uuid": "7c19dcb59cd331384ece2fa2488994cc6e3f95bd"
      },
      "cell_type": "markdown",
      "source": "** Tokenize Text**"
    },
    {
      "metadata": {
        "trusted": true,
        "collapsed": true,
        "_uuid": "cbbbadc244b31bb2f0513bbd79c867cf976470e8"
      },
      "cell_type": "code",
      "source": "tokenizer = Tokenizer(num_words=max_features)\ntokenizer.fit_on_texts(list(X_train_text))\nX_train = tokenizer.texts_to_sequences(X_train_text)\nX_val = tokenizer.texts_to_sequences(X_val_text)\nX_test = tokenizer.texts_to_sequences(test_text)",
      "execution_count": 20,
      "outputs": []
    },
    {
      "metadata": {
        "_uuid": "5aea23744569c4dae3672ef644470c261bb3a97b"
      },
      "cell_type": "markdown",
      "source": "** sequence padding**"
    },
    {
      "metadata": {
        "trusted": true,
        "_uuid": "11fc6c41742b656741a4cd2e74a199fc11bb2c93"
      },
      "cell_type": "code",
      "source": "X_train = sequence.pad_sequences(X_train, maxlen=max_words)\nX_val = sequence.pad_sequences(X_val, maxlen=max_words)\nX_test = sequence.pad_sequences(X_test, maxlen=max_words)\nprint(X_train.shape,X_val.shape,X_test.shape)",
      "execution_count": 21,
      "outputs": [
        {
          "output_type": "stream",
          "text": "(124848, 48) (31212, 48) (66292, 48)\n",
          "name": "stdout"
        }
      ]
    },
    {
      "metadata": {
        "trusted": true,
        "collapsed": true,
        "_uuid": "53cfabdcd65452d3a5ca2eb8d621856c59755e5b"
      },
      "cell_type": "code",
      "source": "def plot_model_history(model_history):\n    fig, axs = plt.subplots(1,2,figsize=(15,5))\n    # summarize history for accuracy\n    axs[0].plot(range(1,len(model_history.history['acc'])+1),model_history.history['acc'])\n    axs[0].plot(range(1,len(model_history.history['val_acc'])+1),model_history.history['val_acc'])\n    axs[0].set_title('Model Accuracy')\n    axs[0].set_ylabel('Accuracy')\n    axs[0].set_xlabel('Epoch')\n    axs[0].set_xticks(np.arange(1,len(model_history.history['acc'])+1),len(model_history.history['acc'])/10)\n    axs[0].legend(['train', 'val'], loc='best')\n    # summarize history for loss\n    axs[1].plot(range(1,len(model_history.history['loss'])+1),model_history.history['loss'])\n    axs[1].plot(range(1,len(model_history.history['val_loss'])+1),model_history.history['val_loss'])\n    axs[1].set_title('Model Loss')\n    axs[1].set_ylabel('Loss')\n    axs[1].set_xlabel('Epoch')\n    axs[1].set_xticks(np.arange(1,len(model_history.history['loss'])+1),len(model_history.history['loss'])/10)\n    axs[1].legend(['train', 'val'], loc='best')\n    plt.show()",
      "execution_count": 24,
      "outputs": []
    },
    {
      "metadata": {
        "_uuid": "9f1a2ab2bbd194bfe5fd293b385dc9c170b75d90"
      },
      "cell_type": "markdown",
      "source": "## 5. Glove word embedding"
    },
    {
      "metadata": {
        "trusted": true,
        "collapsed": true,
        "_uuid": "99f7b2f8fb1988829f476f06cd012a9de9d82eb5"
      },
      "cell_type": "code",
      "source": "def get_coefs(word, *arr):\n    return word, np.asarray(arr, dtype='float32')\n    \ndef get_embed_mat(EMBEDDING_FILE, max_features,embed_dim):\n    # word vectors\n    embeddings_index = dict(get_coefs(*o.rstrip().rsplit(' ')) for o in open(EMBEDDING_FILE, encoding='utf8'))\n    print('Found %s word vectors.' % len(embeddings_index))\n\n    # embedding matrix\n    word_index = tokenizer.word_index\n    num_words = min(max_features, len(word_index) + 1)\n    all_embs = np.stack(embeddings_index.values()) #for random init\n    embedding_matrix = np.random.normal(all_embs.mean(), all_embs.std(), \n                                        (num_words, embed_dim))\n    for word, i in word_index.items():\n        if i >= max_features:\n            continue\n        embedding_vector = embeddings_index.get(word)\n        if embedding_vector is not None:\n            embedding_matrix[i] = embedding_vector\n    max_features = embedding_matrix.shape[0]\n    \n    return embedding_matrix",
      "execution_count": 22,
      "outputs": []
    },
    {
      "metadata": {
        "trusted": true,
        "_uuid": "f7b92967ad909a7f824c67f36e33f07b9b40987e"
      },
      "cell_type": "code",
      "source": "# embedding matrix\nEMBEDDING_FILE = '../input/glove6b100dtxt/glove.6B.100d.txt'\nembed_dim = 100 #word vector dim\nembedding_matrix = get_embed_mat(EMBEDDING_FILE,max_features,embed_dim)\nprint(embedding_matrix.shape)",
      "execution_count": 23,
      "outputs": [
        {
          "output_type": "stream",
          "text": "Found 400000 word vectors.\n(13732, 100)\n",
          "name": "stdout"
        }
      ]
    },
    {
      "metadata": {
        "trusted": true,
        "_uuid": "311657e8a90f12dfcd38e176141bf902c43045b1",
        "collapsed": true
      },
      "cell_type": "code",
      "source": "model5 = Sequential()\nmodel5.add(Embedding(max_features, embed_dim, input_length=X_train.shape[1],weights=[embedding_matrix],trainable=True))\nmodel5.add(SpatialDropout1D(0.25))\nmodel5.add(Bidirectional(GRU(128,return_sequences=True)))\nmodel5.add(Bidirectional(GRU(64,return_sequences=False)))\nmodel5.add(Dropout(0.5))\nmodel5.add(Dense(num_classes, activation='softmax'))\nmodel5.compile(loss='categorical_crossentropy', optimizer='adam', metrics=['accuracy'])\nmodel5.summary()",
      "execution_count": null,
      "outputs": []
    },
    {
      "metadata": {
        "trusted": true,
        "_uuid": "6a1532d55f7940ed8a26929a89a279618b9d1846",
        "collapsed": true
      },
      "cell_type": "code",
      "source": "%%time\nhistory5=model5.fit(X_train, y_train, validation_data=(X_val, y_val),epochs=4, batch_size=batch_size, verbose=1)",
      "execution_count": null,
      "outputs": []
    },
    {
      "metadata": {
        "trusted": true,
        "collapsed": true,
        "_uuid": "584bdb108687749773610ebb99a12d5fb615ed60"
      },
      "cell_type": "code",
      "source": "plot_model_history(history5)",
      "execution_count": null,
      "outputs": []
    },
    {
      "metadata": {
        "trusted": true,
        "_uuid": "275cfcd753c2bfcfaac311dbd43dab0441ced8d3",
        "collapsed": true
      },
      "cell_type": "code",
      "source": "y_pred5=model5.predict_classes(X_test, verbose=1)",
      "execution_count": null,
      "outputs": []
    },
    {
      "metadata": {
        "trusted": true,
        "_uuid": "7eb8ab34a07bc72543aa413f06d38aaf8a8d1336",
        "collapsed": true
      },
      "cell_type": "code",
      "source": "sub.Sentiment=y_pred5\nsub.to_csv('sub5.csv',index=False)\nsub.head()",
      "execution_count": null,
      "outputs": []
    },
    {
      "metadata": {
        "trusted": true,
        "_uuid": "fa8c1f8c34edbf8c562a0eaaccdf768bf372d03a"
      },
      "cell_type": "code",
      "source": "model6 = Sequential()\nmodel6.add(Embedding(max_features, embed_dim, input_length=X_train.shape[1],weights=[embedding_matrix],trainable=True))\nmodel6.add(SpatialDropout1D(0.25))\nmodel6.add(Bidirectional(GRU(128,return_sequences=True)))\nmodel6.add(Conv1D(128,kernel_size=3,padding='same',activation='relu'))\nmodel6.add(Conv1D(128,kernel_size=3,padding='same',activation='relu'))\nmodel6.add(GlobalMaxPooling1D())\nmodel6.add(Dropout(0.5))\nmodel6.add(Dense(num_classes, activation='softmax'))\nmodel6.compile(loss='categorical_crossentropy', optimizer='adam', metrics=['accuracy'])\nmodel6.summary()",
      "execution_count": 25,
      "outputs": [
        {
          "output_type": "stream",
          "text": "_________________________________________________________________\nLayer (type)                 Output Shape              Param #   \n=================================================================\nembedding_1 (Embedding)      (None, 48, 100)           1373200   \n_________________________________________________________________\nspatial_dropout1d_1 (Spatial (None, 48, 100)           0         \n_________________________________________________________________\nbidirectional_1 (Bidirection (None, 48, 256)           175872    \n_________________________________________________________________\nconv1d_1 (Conv1D)            (None, 48, 128)           98432     \n_________________________________________________________________\nconv1d_2 (Conv1D)            (None, 48, 128)           49280     \n_________________________________________________________________\nglobal_max_pooling1d_1 (Glob (None, 128)               0         \n_________________________________________________________________\ndropout_1 (Dropout)          (None, 128)               0         \n_________________________________________________________________\ndense_1 (Dense)              (None, 5)                 645       \n=================================================================\nTotal params: 1,697,429\nTrainable params: 1,697,429\nNon-trainable params: 0\n_________________________________________________________________\n",
          "name": "stdout"
        }
      ]
    },
    {
      "metadata": {
        "trusted": true,
        "_uuid": "bfc40ffd7a10b57fe15add9b10ffad378fc96813"
      },
      "cell_type": "code",
      "source": "%%time\nhistory6=model6.fit(X_train, y_train, validation_data=(X_val, y_val),epochs=4, batch_size=batch_size, verbose=1)",
      "execution_count": 26,
      "outputs": [
        {
          "output_type": "stream",
          "text": "Train on 124848 samples, validate on 31212 samples\nEpoch 1/4\n124848/124848 [==============================] - 138s 1ms/step - loss: 1.0020 - acc: 0.5908 - val_loss: 0.8591 - val_acc: 0.6465\nEpoch 2/4\n124848/124848 [==============================] - 134s 1ms/step - loss: 0.8515 - acc: 0.6463 - val_loss: 0.8045 - val_acc: 0.6702\nEpoch 3/4\n124848/124848 [==============================] - 134s 1ms/step - loss: 0.7899 - acc: 0.6721 - val_loss: 0.7830 - val_acc: 0.6753\nEpoch 4/4\n124848/124848 [==============================] - 134s 1ms/step - loss: 0.7482 - acc: 0.6878 - val_loss: 0.7736 - val_acc: 0.6811\nCPU times: user 10min 57s, sys: 37.7 s, total: 11min 35s\nWall time: 9min 1s\n",
          "name": "stdout"
        }
      ]
    },
    {
      "metadata": {
        "trusted": true,
        "_uuid": "fb2bf7e543b99fd418497bd8c6386e6b460e1e5c"
      },
      "cell_type": "code",
      "source": "plot_model_history(history6)",
      "execution_count": 27,
      "outputs": [
        {
          "output_type": "display_data",
          "data": {
            "text/plain": "<matplotlib.figure.Figure at 0x7f48c4ec5240>",
            "image/png": "[encoded data removed]"
          },
          "metadata": {}
        }
      ]
    },
    {
      "metadata": {
        "trusted": true,
        "collapsed": true,
        "_uuid": "a54ebd633a07b28a4c1ff2e2a683540d75c8b92f"
      },
      "cell_type": "code",
      "source": "y_pred6=model6.predict_classes(X_test, verbose=1)\n\nsub.Sentiment=y_pred6\nsub.to_csv('sub6.csv',index=False)\nsub.head()",
      "execution_count": null,
      "outputs": []
    },
    {
      "metadata": {
        "trusted": true,
        "collapsed": true,
        "_uuid": "26e38be1761b93f8a05c424df6780663efaf3572"
      },
      "cell_type": "code",
      "source": "",
      "execution_count": null,
      "outputs": []
    }
  ],
  "metadata": {
    "kernelspec": {
      "display_name": "Python 3",
      "language": "python",
      "name": "python3"
    },
    "language_info": {
      "name": "python",
      "version": "3.6.4",
      "mimetype": "text/x-python",
      "codemirror_mode": {
        "name": "ipython",
        "version": 3
      },
      "pygments_lexer": "ipython3",
      "nbconvert_exporter": "python",
      "file_extension": ".py"
    }
  },
  "nbformat": 4,
  "nbformat_minor": 1
}